{
 "cells": [
  {
   "cell_type": "code",
   "execution_count": 192,
   "metadata": {},
   "outputs": [],
   "source": [
    "import pandas as pd"
   ]
  },
  {
   "cell_type": "code",
   "execution_count": 193,
   "metadata": {},
   "outputs": [
    {
     "name": "stdout",
     "output_type": "stream",
     "text": [
      "Введите интересующие года через запятую: 2002, 2003, 2004\n"
     ]
    }
   ],
   "source": [
    "year_list = str(input('Введите интересующие года через запятую: ')).split(', ')\n",
    "path = 'yob'"
   ]
  },
  {
   "cell_type": "code",
   "execution_count": 194,
   "metadata": {
    "scrolled": true
   },
   "outputs": [],
   "source": [
    "def count_top3(from_years):\n",
    "    df_list = []\n",
    "    for year in from_years:\n",
    "        df = pd.read_csv(path + year + '.txt', header=None, names = ['Names', 'Sex', 'Quantity'])\n",
    "        df_list.append(df)\n",
    "    df_con = pd.concat(df_list)\n",
    "    df_gr = df_con.groupby('Names', as_index=False).sum()\n",
    "    df_sort = df_gr.sort_values('Quantity', ascending=False)\n",
    "    names = list(df_sort[0:3]['Names'])\n",
    "    print('ТОП-3 наиболее популярных имён за искомый промежуток:')\n",
    "    for name in names:\n",
    "        print(name)\n",
    "        \n",
    "#count_top3(year_list)"
   ]
  },
  {
   "cell_type": "code",
   "execution_count": 195,
   "metadata": {
    "scrolled": true
   },
   "outputs": [
    {
     "name": "stdout",
     "output_type": "stream",
     "text": [
      "{'F': [1795973, 1826173, 1835091], 'M': [1940525, 1974274, 1983722]}\n"
     ]
    }
   ],
   "source": [
    "def count_dynamics(from_years):\n",
    "    df_list = []\n",
    "    for year in from_years:\n",
    "        df = pd.read_csv(path + year + '.txt', header=None, names = ['Names', 'Sex', 'Quantity'])\n",
    "        df_list.append(df)\n",
    "    res_dfs = []\n",
    "    for df in df_list:\n",
    "        df_gr = df.groupby('Sex').sum()\n",
    "        res_dfs.append(df_gr)\n",
    "    res_f = []\n",
    "    res_m = []\n",
    "    for i in range(0, len(res_dfs)):\n",
    "        numbers = list(res_dfs[i]['Quantity'])\n",
    "        res_f.append(numbers[0])\n",
    "        res_m.append(numbers[1])\n",
    "    dynamics = {'F': res_f, 'M': res_m}\n",
    "    print(dynamics)\n",
    "            \n",
    "#count_dynamics(year_list)"
   ]
  },
  {
   "cell_type": "markdown",
   "metadata": {},
   "source": []
  }
 ],
 "metadata": {
  "kernelspec": {
   "display_name": "Python 3",
   "language": "python",
   "name": "python3"
  },
  "language_info": {
   "codemirror_mode": {
    "name": "ipython",
    "version": 3
   },
   "file_extension": ".py",
   "mimetype": "text/x-python",
   "name": "python",
   "nbconvert_exporter": "python",
   "pygments_lexer": "ipython3",
   "version": "3.7.6"
  }
 },
 "nbformat": 4,
 "nbformat_minor": 4
}
